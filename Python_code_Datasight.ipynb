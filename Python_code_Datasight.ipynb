{
 "cells": [
  {
   "cell_type": "code",
   "execution_count": 1,
   "id": "a39a58c3",
   "metadata": {},
   "outputs": [],
   "source": [
    "import pandas as pd\n",
    "import numpy as np\n",
    "import matplotlib.pyplot as plt\n",
    "import seaborn as sns"
   ]
  },
  {
   "cell_type": "code",
   "execution_count": 255,
   "id": "d4f5d3ba",
   "metadata": {},
   "outputs": [],
   "source": [
    "# Loading Dataset\n",
    "df=pd.read_csv('DataSights_Dataset.csv')"
   ]
  },
  {
   "cell_type": "code",
   "execution_count": 256,
   "id": "a059cf70",
   "metadata": {},
   "outputs": [
    {
     "data": {
      "text/html": [
       "<div>\n",
       "<style scoped>\n",
       "    .dataframe tbody tr th:only-of-type {\n",
       "        vertical-align: middle;\n",
       "    }\n",
       "\n",
       "    .dataframe tbody tr th {\n",
       "        vertical-align: top;\n",
       "    }\n",
       "\n",
       "    .dataframe thead th {\n",
       "        text-align: right;\n",
       "    }\n",
       "</style>\n",
       "<table border=\"1\" class=\"dataframe\">\n",
       "  <thead>\n",
       "    <tr style=\"text-align: right;\">\n",
       "      <th></th>\n",
       "      <th>customer_id</th>\n",
       "      <th>name</th>\n",
       "      <th>age</th>\n",
       "      <th>gender</th>\n",
       "      <th>owns_car</th>\n",
       "      <th>owns_house</th>\n",
       "      <th>no_of_children</th>\n",
       "      <th>net_yearly_income</th>\n",
       "      <th>no_of_days_employed</th>\n",
       "      <th>occupation_type</th>\n",
       "      <th>total_family_members</th>\n",
       "      <th>migrant_worker</th>\n",
       "      <th>yearly_debt_payments</th>\n",
       "      <th>credit_limit</th>\n",
       "      <th>credit_limit_used(%)</th>\n",
       "      <th>credit_score</th>\n",
       "      <th>prev_defaults</th>\n",
       "      <th>default_in_last_6months</th>\n",
       "      <th>credit_card_default</th>\n",
       "    </tr>\n",
       "  </thead>\n",
       "  <tbody>\n",
       "    <tr>\n",
       "      <th>0</th>\n",
       "      <td>CST_115179</td>\n",
       "      <td>ita Bose</td>\n",
       "      <td>46</td>\n",
       "      <td>F</td>\n",
       "      <td>N</td>\n",
       "      <td>Y</td>\n",
       "      <td>0.0</td>\n",
       "      <td>107934.04</td>\n",
       "      <td>612.0</td>\n",
       "      <td>Unknown</td>\n",
       "      <td>1.0</td>\n",
       "      <td>1.0</td>\n",
       "      <td>33070.28</td>\n",
       "      <td>18690.93</td>\n",
       "      <td>73</td>\n",
       "      <td>544.0</td>\n",
       "      <td>2</td>\n",
       "      <td>1</td>\n",
       "      <td>1</td>\n",
       "    </tr>\n",
       "    <tr>\n",
       "      <th>1</th>\n",
       "      <td>CST_121920</td>\n",
       "      <td>Alper Jonathan</td>\n",
       "      <td>29</td>\n",
       "      <td>M</td>\n",
       "      <td>N</td>\n",
       "      <td>Y</td>\n",
       "      <td>0.0</td>\n",
       "      <td>109862.62</td>\n",
       "      <td>2771.0</td>\n",
       "      <td>Laborers</td>\n",
       "      <td>2.0</td>\n",
       "      <td>0.0</td>\n",
       "      <td>15329.53</td>\n",
       "      <td>37745.19</td>\n",
       "      <td>52</td>\n",
       "      <td>857.0</td>\n",
       "      <td>0</td>\n",
       "      <td>0</td>\n",
       "      <td>0</td>\n",
       "    </tr>\n",
       "    <tr>\n",
       "      <th>2</th>\n",
       "      <td>CST_109330</td>\n",
       "      <td>Umesh Desai</td>\n",
       "      <td>37</td>\n",
       "      <td>M</td>\n",
       "      <td>N</td>\n",
       "      <td>Y</td>\n",
       "      <td>0.0</td>\n",
       "      <td>230153.17</td>\n",
       "      <td>204.0</td>\n",
       "      <td>Laborers</td>\n",
       "      <td>2.0</td>\n",
       "      <td>0.0</td>\n",
       "      <td>48416.60</td>\n",
       "      <td>41598.36</td>\n",
       "      <td>43</td>\n",
       "      <td>650.0</td>\n",
       "      <td>0</td>\n",
       "      <td>0</td>\n",
       "      <td>0</td>\n",
       "    </tr>\n",
       "    <tr>\n",
       "      <th>3</th>\n",
       "      <td>CST_128288</td>\n",
       "      <td>Rie</td>\n",
       "      <td>39</td>\n",
       "      <td>F</td>\n",
       "      <td>N</td>\n",
       "      <td>Y</td>\n",
       "      <td>0.0</td>\n",
       "      <td>122325.82</td>\n",
       "      <td>11941.0</td>\n",
       "      <td>Core staff</td>\n",
       "      <td>2.0</td>\n",
       "      <td>0.0</td>\n",
       "      <td>22574.36</td>\n",
       "      <td>32627.76</td>\n",
       "      <td>20</td>\n",
       "      <td>754.0</td>\n",
       "      <td>0</td>\n",
       "      <td>0</td>\n",
       "      <td>0</td>\n",
       "    </tr>\n",
       "    <tr>\n",
       "      <th>4</th>\n",
       "      <td>CST_151355</td>\n",
       "      <td>McCool</td>\n",
       "      <td>46</td>\n",
       "      <td>M</td>\n",
       "      <td>Y</td>\n",
       "      <td>Y</td>\n",
       "      <td>0.0</td>\n",
       "      <td>387286.00</td>\n",
       "      <td>1459.0</td>\n",
       "      <td>Core staff</td>\n",
       "      <td>1.0</td>\n",
       "      <td>0.0</td>\n",
       "      <td>38282.95</td>\n",
       "      <td>52950.64</td>\n",
       "      <td>75</td>\n",
       "      <td>927.0</td>\n",
       "      <td>0</td>\n",
       "      <td>0</td>\n",
       "      <td>0</td>\n",
       "    </tr>\n",
       "  </tbody>\n",
       "</table>\n",
       "</div>"
      ],
      "text/plain": [
       "  customer_id            name  age gender owns_car owns_house  no_of_children  \\\n",
       "0  CST_115179        ita Bose   46      F        N          Y             0.0   \n",
       "1  CST_121920  Alper Jonathan   29      M        N          Y             0.0   \n",
       "2  CST_109330     Umesh Desai   37      M        N          Y             0.0   \n",
       "3  CST_128288             Rie   39      F        N          Y             0.0   \n",
       "4  CST_151355          McCool   46      M        Y          Y             0.0   \n",
       "\n",
       "   net_yearly_income  no_of_days_employed occupation_type  \\\n",
       "0          107934.04                612.0         Unknown   \n",
       "1          109862.62               2771.0        Laborers   \n",
       "2          230153.17                204.0        Laborers   \n",
       "3          122325.82              11941.0      Core staff   \n",
       "4          387286.00               1459.0      Core staff   \n",
       "\n",
       "   total_family_members  migrant_worker  yearly_debt_payments  credit_limit  \\\n",
       "0                   1.0             1.0              33070.28      18690.93   \n",
       "1                   2.0             0.0              15329.53      37745.19   \n",
       "2                   2.0             0.0              48416.60      41598.36   \n",
       "3                   2.0             0.0              22574.36      32627.76   \n",
       "4                   1.0             0.0              38282.95      52950.64   \n",
       "\n",
       "   credit_limit_used(%)  credit_score  prev_defaults  default_in_last_6months  \\\n",
       "0                    73         544.0              2                        1   \n",
       "1                    52         857.0              0                        0   \n",
       "2                    43         650.0              0                        0   \n",
       "3                    20         754.0              0                        0   \n",
       "4                    75         927.0              0                        0   \n",
       "\n",
       "   credit_card_default  \n",
       "0                    1  \n",
       "1                    0  \n",
       "2                    0  \n",
       "3                    0  \n",
       "4                    0  "
      ]
     },
     "execution_count": 256,
     "metadata": {},
     "output_type": "execute_result"
    }
   ],
   "source": [
    "df.head()"
   ]
  },
  {
   "cell_type": "code",
   "execution_count": 257,
   "id": "61b22458",
   "metadata": {},
   "outputs": [
    {
     "name": "stdout",
     "output_type": "stream",
     "text": [
      "<class 'pandas.core.frame.DataFrame'>\n",
      "RangeIndex: 45528 entries, 0 to 45527\n",
      "Data columns (total 19 columns):\n",
      " #   Column                   Non-Null Count  Dtype  \n",
      "---  ------                   --------------  -----  \n",
      " 0   customer_id              45528 non-null  object \n",
      " 1   name                     45528 non-null  object \n",
      " 2   age                      45528 non-null  int64  \n",
      " 3   gender                   45528 non-null  object \n",
      " 4   owns_car                 44981 non-null  object \n",
      " 5   owns_house               45528 non-null  object \n",
      " 6   no_of_children           44754 non-null  float64\n",
      " 7   net_yearly_income        45528 non-null  float64\n",
      " 8   no_of_days_employed      45065 non-null  float64\n",
      " 9   occupation_type          45528 non-null  object \n",
      " 10  total_family_members     45445 non-null  float64\n",
      " 11  migrant_worker           45441 non-null  float64\n",
      " 12  yearly_debt_payments     45433 non-null  float64\n",
      " 13  credit_limit             45528 non-null  float64\n",
      " 14  credit_limit_used(%)     45528 non-null  int64  \n",
      " 15  credit_score             45520 non-null  float64\n",
      " 16  prev_defaults            45528 non-null  int64  \n",
      " 17  default_in_last_6months  45528 non-null  int64  \n",
      " 18  credit_card_default      45528 non-null  int64  \n",
      "dtypes: float64(8), int64(5), object(6)\n",
      "memory usage: 6.6+ MB\n"
     ]
    }
   ],
   "source": [
    "df.info()"
   ]
  },
  {
   "cell_type": "code",
   "execution_count": 258,
   "id": "e8e8e41b",
   "metadata": {},
   "outputs": [
    {
     "data": {
      "text/plain": [
       "(45528, 19)"
      ]
     },
     "execution_count": 258,
     "metadata": {},
     "output_type": "execute_result"
    }
   ],
   "source": [
    "df.shape"
   ]
  },
  {
   "cell_type": "code",
   "execution_count": 259,
   "id": "792eff9a",
   "metadata": {},
   "outputs": [
    {
     "data": {
      "text/plain": [
       "customer_id                0.000000\n",
       "name                       0.000000\n",
       "age                        0.000000\n",
       "gender                     0.000000\n",
       "owns_car                   1.201458\n",
       "owns_house                 0.000000\n",
       "no_of_children             1.700053\n",
       "net_yearly_income          0.000000\n",
       "no_of_days_employed        1.016957\n",
       "occupation_type            0.000000\n",
       "total_family_members       0.182305\n",
       "migrant_worker             0.191091\n",
       "yearly_debt_payments       0.208663\n",
       "credit_limit               0.000000\n",
       "credit_limit_used(%)       0.000000\n",
       "credit_score               0.017572\n",
       "prev_defaults              0.000000\n",
       "default_in_last_6months    0.000000\n",
       "credit_card_default        0.000000\n",
       "dtype: float64"
      ]
     },
     "execution_count": 259,
     "metadata": {},
     "output_type": "execute_result"
    }
   ],
   "source": [
    "df.isnull().mean()*100          # Null values"
   ]
  },
  {
   "cell_type": "markdown",
   "id": "0ed2fdf2",
   "metadata": {},
   "source": [
    "### Few operations which needs to take are:-\n",
    "- drop those rows having null values since they are very less\n",
    "- convert datatypes of few columns like no_of_children,no_of_days_employed,total_family_members,migrant_worker into int\n",
    "- Introducing new column loan_to_income_ratio and dropping net_yearly_income and yearly_debt_payments column"
   ]
  },
  {
   "cell_type": "code",
   "execution_count": 260,
   "id": "98ab5a8b",
   "metadata": {},
   "outputs": [],
   "source": [
    "# dropping null value rows\n",
    "df_cleaned=df.dropna()"
   ]
  },
  {
   "cell_type": "code",
   "execution_count": 261,
   "id": "4b49ae19",
   "metadata": {},
   "outputs": [
    {
     "data": {
      "text/plain": [
       "(43509, 19)"
      ]
     },
     "execution_count": 261,
     "metadata": {},
     "output_type": "execute_result"
    }
   ],
   "source": [
    "df_cleaned.shape"
   ]
  },
  {
   "cell_type": "code",
   "execution_count": 262,
   "id": "535a5d24",
   "metadata": {},
   "outputs": [
    {
     "data": {
      "text/html": [
       "<div>\n",
       "<style scoped>\n",
       "    .dataframe tbody tr th:only-of-type {\n",
       "        vertical-align: middle;\n",
       "    }\n",
       "\n",
       "    .dataframe tbody tr th {\n",
       "        vertical-align: top;\n",
       "    }\n",
       "\n",
       "    .dataframe thead th {\n",
       "        text-align: right;\n",
       "    }\n",
       "</style>\n",
       "<table border=\"1\" class=\"dataframe\">\n",
       "  <thead>\n",
       "    <tr style=\"text-align: right;\">\n",
       "      <th></th>\n",
       "      <th>customer_id</th>\n",
       "      <th>name</th>\n",
       "      <th>age</th>\n",
       "      <th>gender</th>\n",
       "      <th>owns_car</th>\n",
       "      <th>owns_house</th>\n",
       "      <th>no_of_children</th>\n",
       "      <th>net_yearly_income</th>\n",
       "      <th>no_of_days_employed</th>\n",
       "      <th>occupation_type</th>\n",
       "      <th>total_family_members</th>\n",
       "      <th>migrant_worker</th>\n",
       "      <th>yearly_debt_payments</th>\n",
       "      <th>credit_limit</th>\n",
       "      <th>credit_limit_used(%)</th>\n",
       "      <th>credit_score</th>\n",
       "      <th>prev_defaults</th>\n",
       "      <th>default_in_last_6months</th>\n",
       "      <th>credit_card_default</th>\n",
       "    </tr>\n",
       "  </thead>\n",
       "  <tbody>\n",
       "    <tr>\n",
       "      <th>0</th>\n",
       "      <td>CST_115179</td>\n",
       "      <td>ita Bose</td>\n",
       "      <td>46</td>\n",
       "      <td>F</td>\n",
       "      <td>N</td>\n",
       "      <td>Y</td>\n",
       "      <td>0.0</td>\n",
       "      <td>107934.04</td>\n",
       "      <td>612.0</td>\n",
       "      <td>Unknown</td>\n",
       "      <td>1.0</td>\n",
       "      <td>1.0</td>\n",
       "      <td>33070.28</td>\n",
       "      <td>18690.93</td>\n",
       "      <td>73</td>\n",
       "      <td>544.0</td>\n",
       "      <td>2</td>\n",
       "      <td>1</td>\n",
       "      <td>1</td>\n",
       "    </tr>\n",
       "    <tr>\n",
       "      <th>1</th>\n",
       "      <td>CST_121920</td>\n",
       "      <td>Alper Jonathan</td>\n",
       "      <td>29</td>\n",
       "      <td>M</td>\n",
       "      <td>N</td>\n",
       "      <td>Y</td>\n",
       "      <td>0.0</td>\n",
       "      <td>109862.62</td>\n",
       "      <td>2771.0</td>\n",
       "      <td>Laborers</td>\n",
       "      <td>2.0</td>\n",
       "      <td>0.0</td>\n",
       "      <td>15329.53</td>\n",
       "      <td>37745.19</td>\n",
       "      <td>52</td>\n",
       "      <td>857.0</td>\n",
       "      <td>0</td>\n",
       "      <td>0</td>\n",
       "      <td>0</td>\n",
       "    </tr>\n",
       "    <tr>\n",
       "      <th>2</th>\n",
       "      <td>CST_109330</td>\n",
       "      <td>Umesh Desai</td>\n",
       "      <td>37</td>\n",
       "      <td>M</td>\n",
       "      <td>N</td>\n",
       "      <td>Y</td>\n",
       "      <td>0.0</td>\n",
       "      <td>230153.17</td>\n",
       "      <td>204.0</td>\n",
       "      <td>Laborers</td>\n",
       "      <td>2.0</td>\n",
       "      <td>0.0</td>\n",
       "      <td>48416.60</td>\n",
       "      <td>41598.36</td>\n",
       "      <td>43</td>\n",
       "      <td>650.0</td>\n",
       "      <td>0</td>\n",
       "      <td>0</td>\n",
       "      <td>0</td>\n",
       "    </tr>\n",
       "    <tr>\n",
       "      <th>3</th>\n",
       "      <td>CST_128288</td>\n",
       "      <td>Rie</td>\n",
       "      <td>39</td>\n",
       "      <td>F</td>\n",
       "      <td>N</td>\n",
       "      <td>Y</td>\n",
       "      <td>0.0</td>\n",
       "      <td>122325.82</td>\n",
       "      <td>11941.0</td>\n",
       "      <td>Core staff</td>\n",
       "      <td>2.0</td>\n",
       "      <td>0.0</td>\n",
       "      <td>22574.36</td>\n",
       "      <td>32627.76</td>\n",
       "      <td>20</td>\n",
       "      <td>754.0</td>\n",
       "      <td>0</td>\n",
       "      <td>0</td>\n",
       "      <td>0</td>\n",
       "    </tr>\n",
       "    <tr>\n",
       "      <th>4</th>\n",
       "      <td>CST_151355</td>\n",
       "      <td>McCool</td>\n",
       "      <td>46</td>\n",
       "      <td>M</td>\n",
       "      <td>Y</td>\n",
       "      <td>Y</td>\n",
       "      <td>0.0</td>\n",
       "      <td>387286.00</td>\n",
       "      <td>1459.0</td>\n",
       "      <td>Core staff</td>\n",
       "      <td>1.0</td>\n",
       "      <td>0.0</td>\n",
       "      <td>38282.95</td>\n",
       "      <td>52950.64</td>\n",
       "      <td>75</td>\n",
       "      <td>927.0</td>\n",
       "      <td>0</td>\n",
       "      <td>0</td>\n",
       "      <td>0</td>\n",
       "    </tr>\n",
       "  </tbody>\n",
       "</table>\n",
       "</div>"
      ],
      "text/plain": [
       "  customer_id            name  age gender owns_car owns_house  no_of_children  \\\n",
       "0  CST_115179        ita Bose   46      F        N          Y             0.0   \n",
       "1  CST_121920  Alper Jonathan   29      M        N          Y             0.0   \n",
       "2  CST_109330     Umesh Desai   37      M        N          Y             0.0   \n",
       "3  CST_128288             Rie   39      F        N          Y             0.0   \n",
       "4  CST_151355          McCool   46      M        Y          Y             0.0   \n",
       "\n",
       "   net_yearly_income  no_of_days_employed occupation_type  \\\n",
       "0          107934.04                612.0         Unknown   \n",
       "1          109862.62               2771.0        Laborers   \n",
       "2          230153.17                204.0        Laborers   \n",
       "3          122325.82              11941.0      Core staff   \n",
       "4          387286.00               1459.0      Core staff   \n",
       "\n",
       "   total_family_members  migrant_worker  yearly_debt_payments  credit_limit  \\\n",
       "0                   1.0             1.0              33070.28      18690.93   \n",
       "1                   2.0             0.0              15329.53      37745.19   \n",
       "2                   2.0             0.0              48416.60      41598.36   \n",
       "3                   2.0             0.0              22574.36      32627.76   \n",
       "4                   1.0             0.0              38282.95      52950.64   \n",
       "\n",
       "   credit_limit_used(%)  credit_score  prev_defaults  default_in_last_6months  \\\n",
       "0                    73         544.0              2                        1   \n",
       "1                    52         857.0              0                        0   \n",
       "2                    43         650.0              0                        0   \n",
       "3                    20         754.0              0                        0   \n",
       "4                    75         927.0              0                        0   \n",
       "\n",
       "   credit_card_default  \n",
       "0                    1  \n",
       "1                    0  \n",
       "2                    0  \n",
       "3                    0  \n",
       "4                    0  "
      ]
     },
     "execution_count": 262,
     "metadata": {},
     "output_type": "execute_result"
    }
   ],
   "source": [
    "df_cleaned.head()"
   ]
  },
  {
   "cell_type": "code",
   "execution_count": 263,
   "id": "858d100e",
   "metadata": {},
   "outputs": [
    {
     "name": "stdout",
     "output_type": "stream",
     "text": [
      "<class 'pandas.core.frame.DataFrame'>\n",
      "Int64Index: 43509 entries, 0 to 45527\n",
      "Data columns (total 19 columns):\n",
      " #   Column                   Non-Null Count  Dtype  \n",
      "---  ------                   --------------  -----  \n",
      " 0   customer_id              43509 non-null  object \n",
      " 1   name                     43509 non-null  object \n",
      " 2   age                      43509 non-null  int64  \n",
      " 3   gender                   43509 non-null  object \n",
      " 4   owns_car                 43509 non-null  object \n",
      " 5   owns_house               43509 non-null  object \n",
      " 6   no_of_children           43509 non-null  int32  \n",
      " 7   net_yearly_income        43509 non-null  float64\n",
      " 8   no_of_days_employed      43509 non-null  int32  \n",
      " 9   occupation_type          43509 non-null  object \n",
      " 10  total_family_members     43509 non-null  int32  \n",
      " 11  migrant_worker           43509 non-null  int32  \n",
      " 12  yearly_debt_payments     43509 non-null  float64\n",
      " 13  credit_limit             43509 non-null  float64\n",
      " 14  credit_limit_used(%)     43509 non-null  int64  \n",
      " 15  credit_score             43509 non-null  float64\n",
      " 16  prev_defaults            43509 non-null  int64  \n",
      " 17  default_in_last_6months  43509 non-null  int64  \n",
      " 18  credit_card_default      43509 non-null  int64  \n",
      "dtypes: float64(4), int32(4), int64(5), object(6)\n",
      "memory usage: 6.0+ MB\n"
     ]
    }
   ],
   "source": [
    "# Convert float to int\n",
    "convert={'no_of_children':int,'no_of_days_employed':int,'total_family_members':int,'migrant_worker':int}\n",
    "df_cleaned=df_cleaned.astype(convert)\n",
    "df_cleaned.info()"
   ]
  },
  {
   "cell_type": "code",
   "execution_count": 264,
   "id": "c2b3420c",
   "metadata": {},
   "outputs": [
    {
     "data": {
      "text/plain": [
       "Index(['customer_id', 'name', 'age', 'gender', 'owns_car', 'owns_house',\n",
       "       'no_of_children', 'net_yearly_income', 'no_of_days_employed',\n",
       "       'occupation_type', 'total_family_members', 'migrant_worker',\n",
       "       'yearly_debt_payments', 'credit_limit', 'credit_limit_used(%)',\n",
       "       'credit_score', 'prev_defaults', 'default_in_last_6months',\n",
       "       'credit_card_default'],\n",
       "      dtype='object')"
      ]
     },
     "execution_count": 264,
     "metadata": {},
     "output_type": "execute_result"
    }
   ],
   "source": [
    "df_cleaned.columns"
   ]
  },
  {
   "cell_type": "code",
   "execution_count": 265,
   "id": "86492bc7",
   "metadata": {
    "scrolled": true
   },
   "outputs": [
    {
     "data": {
      "text/html": [
       "<div>\n",
       "<style scoped>\n",
       "    .dataframe tbody tr th:only-of-type {\n",
       "        vertical-align: middle;\n",
       "    }\n",
       "\n",
       "    .dataframe tbody tr th {\n",
       "        vertical-align: top;\n",
       "    }\n",
       "\n",
       "    .dataframe thead th {\n",
       "        text-align: right;\n",
       "    }\n",
       "</style>\n",
       "<table border=\"1\" class=\"dataframe\">\n",
       "  <thead>\n",
       "    <tr style=\"text-align: right;\">\n",
       "      <th></th>\n",
       "      <th>age</th>\n",
       "      <th>no_of_children</th>\n",
       "      <th>net_yearly_income</th>\n",
       "      <th>no_of_days_employed</th>\n",
       "      <th>total_family_members</th>\n",
       "      <th>migrant_worker</th>\n",
       "      <th>yearly_debt_payments</th>\n",
       "      <th>credit_limit</th>\n",
       "      <th>credit_limit_used(%)</th>\n",
       "      <th>credit_score</th>\n",
       "      <th>prev_defaults</th>\n",
       "      <th>default_in_last_6months</th>\n",
       "      <th>credit_card_default</th>\n",
       "    </tr>\n",
       "  </thead>\n",
       "  <tbody>\n",
       "    <tr>\n",
       "      <th>count</th>\n",
       "      <td>43509.000000</td>\n",
       "      <td>43509.000000</td>\n",
       "      <td>4.350900e+04</td>\n",
       "      <td>43509.000000</td>\n",
       "      <td>43509.000000</td>\n",
       "      <td>43509.000000</td>\n",
       "      <td>43509.000000</td>\n",
       "      <td>4.350900e+04</td>\n",
       "      <td>43509.000000</td>\n",
       "      <td>43509.000000</td>\n",
       "      <td>43509.000000</td>\n",
       "      <td>43509.000000</td>\n",
       "      <td>43509.000000</td>\n",
       "    </tr>\n",
       "    <tr>\n",
       "      <th>mean</th>\n",
       "      <td>38.997885</td>\n",
       "      <td>0.420947</td>\n",
       "      <td>2.008968e+05</td>\n",
       "      <td>67631.328438</td>\n",
       "      <td>2.159002</td>\n",
       "      <td>0.179641</td>\n",
       "      <td>31812.731181</td>\n",
       "      <td>4.360426e+04</td>\n",
       "      <td>52.235721</td>\n",
       "      <td>782.785332</td>\n",
       "      <td>0.060769</td>\n",
       "      <td>0.050748</td>\n",
       "      <td>0.081156</td>\n",
       "    </tr>\n",
       "    <tr>\n",
       "      <th>std</th>\n",
       "      <td>9.543480</td>\n",
       "      <td>0.724627</td>\n",
       "      <td>6.840522e+05</td>\n",
       "      <td>139341.558948</td>\n",
       "      <td>0.912460</td>\n",
       "      <td>0.383893</td>\n",
       "      <td>17274.938283</td>\n",
       "      <td>1.520773e+05</td>\n",
       "      <td>29.380952</td>\n",
       "      <td>100.585008</td>\n",
       "      <td>0.264391</td>\n",
       "      <td>0.219485</td>\n",
       "      <td>0.273077</td>\n",
       "    </tr>\n",
       "    <tr>\n",
       "      <th>min</th>\n",
       "      <td>23.000000</td>\n",
       "      <td>0.000000</td>\n",
       "      <td>2.717061e+04</td>\n",
       "      <td>2.000000</td>\n",
       "      <td>1.000000</td>\n",
       "      <td>0.000000</td>\n",
       "      <td>2237.470000</td>\n",
       "      <td>4.003140e+03</td>\n",
       "      <td>0.000000</td>\n",
       "      <td>500.000000</td>\n",
       "      <td>0.000000</td>\n",
       "      <td>0.000000</td>\n",
       "      <td>0.000000</td>\n",
       "    </tr>\n",
       "    <tr>\n",
       "      <th>25%</th>\n",
       "      <td>31.000000</td>\n",
       "      <td>0.000000</td>\n",
       "      <td>1.262890e+05</td>\n",
       "      <td>937.000000</td>\n",
       "      <td>2.000000</td>\n",
       "      <td>0.000000</td>\n",
       "      <td>19238.220000</td>\n",
       "      <td>2.397718e+04</td>\n",
       "      <td>27.000000</td>\n",
       "      <td>704.000000</td>\n",
       "      <td>0.000000</td>\n",
       "      <td>0.000000</td>\n",
       "      <td>0.000000</td>\n",
       "    </tr>\n",
       "    <tr>\n",
       "      <th>50%</th>\n",
       "      <td>39.000000</td>\n",
       "      <td>0.000000</td>\n",
       "      <td>1.716450e+05</td>\n",
       "      <td>2224.000000</td>\n",
       "      <td>2.000000</td>\n",
       "      <td>0.000000</td>\n",
       "      <td>29105.130000</td>\n",
       "      <td>3.569072e+04</td>\n",
       "      <td>54.000000</td>\n",
       "      <td>786.000000</td>\n",
       "      <td>0.000000</td>\n",
       "      <td>0.000000</td>\n",
       "      <td>0.000000</td>\n",
       "    </tr>\n",
       "    <tr>\n",
       "      <th>75%</th>\n",
       "      <td>47.000000</td>\n",
       "      <td>1.000000</td>\n",
       "      <td>2.407659e+05</td>\n",
       "      <td>5812.000000</td>\n",
       "      <td>3.000000</td>\n",
       "      <td>0.000000</td>\n",
       "      <td>40577.850000</td>\n",
       "      <td>5.348147e+04</td>\n",
       "      <td>79.000000</td>\n",
       "      <td>867.000000</td>\n",
       "      <td>0.000000</td>\n",
       "      <td>0.000000</td>\n",
       "      <td>0.000000</td>\n",
       "    </tr>\n",
       "    <tr>\n",
       "      <th>max</th>\n",
       "      <td>55.000000</td>\n",
       "      <td>9.000000</td>\n",
       "      <td>1.407590e+08</td>\n",
       "      <td>365252.000000</td>\n",
       "      <td>10.000000</td>\n",
       "      <td>1.000000</td>\n",
       "      <td>328112.860000</td>\n",
       "      <td>3.112997e+07</td>\n",
       "      <td>99.000000</td>\n",
       "      <td>949.000000</td>\n",
       "      <td>2.000000</td>\n",
       "      <td>1.000000</td>\n",
       "      <td>1.000000</td>\n",
       "    </tr>\n",
       "  </tbody>\n",
       "</table>\n",
       "</div>"
      ],
      "text/plain": [
       "                age  no_of_children  net_yearly_income  no_of_days_employed  \\\n",
       "count  43509.000000    43509.000000       4.350900e+04         43509.000000   \n",
       "mean      38.997885        0.420947       2.008968e+05         67631.328438   \n",
       "std        9.543480        0.724627       6.840522e+05        139341.558948   \n",
       "min       23.000000        0.000000       2.717061e+04             2.000000   \n",
       "25%       31.000000        0.000000       1.262890e+05           937.000000   \n",
       "50%       39.000000        0.000000       1.716450e+05          2224.000000   \n",
       "75%       47.000000        1.000000       2.407659e+05          5812.000000   \n",
       "max       55.000000        9.000000       1.407590e+08        365252.000000   \n",
       "\n",
       "       total_family_members  migrant_worker  yearly_debt_payments  \\\n",
       "count          43509.000000    43509.000000          43509.000000   \n",
       "mean               2.159002        0.179641          31812.731181   \n",
       "std                0.912460        0.383893          17274.938283   \n",
       "min                1.000000        0.000000           2237.470000   \n",
       "25%                2.000000        0.000000          19238.220000   \n",
       "50%                2.000000        0.000000          29105.130000   \n",
       "75%                3.000000        0.000000          40577.850000   \n",
       "max               10.000000        1.000000         328112.860000   \n",
       "\n",
       "       credit_limit  credit_limit_used(%)  credit_score  prev_defaults  \\\n",
       "count  4.350900e+04          43509.000000  43509.000000   43509.000000   \n",
       "mean   4.360426e+04             52.235721    782.785332       0.060769   \n",
       "std    1.520773e+05             29.380952    100.585008       0.264391   \n",
       "min    4.003140e+03              0.000000    500.000000       0.000000   \n",
       "25%    2.397718e+04             27.000000    704.000000       0.000000   \n",
       "50%    3.569072e+04             54.000000    786.000000       0.000000   \n",
       "75%    5.348147e+04             79.000000    867.000000       0.000000   \n",
       "max    3.112997e+07             99.000000    949.000000       2.000000   \n",
       "\n",
       "       default_in_last_6months  credit_card_default  \n",
       "count             43509.000000         43509.000000  \n",
       "mean                  0.050748             0.081156  \n",
       "std                   0.219485             0.273077  \n",
       "min                   0.000000             0.000000  \n",
       "25%                   0.000000             0.000000  \n",
       "50%                   0.000000             0.000000  \n",
       "75%                   0.000000             0.000000  \n",
       "max                   1.000000             1.000000  "
      ]
     },
     "execution_count": 265,
     "metadata": {},
     "output_type": "execute_result"
    }
   ],
   "source": [
    "df_cleaned.describe()"
   ]
  },
  {
   "cell_type": "markdown",
   "id": "64407130",
   "metadata": {},
   "source": [
    "### Visualising Outliers\n"
   ]
  },
  {
   "cell_type": "code",
   "execution_count": 266,
   "id": "7803a7ea",
   "metadata": {},
   "outputs": [
    {
     "name": "stderr",
     "output_type": "stream",
     "text": [
      "C:\\Users\\acer\\anaconda3\\lib\\site-packages\\seaborn\\_decorators.py:36: FutureWarning: Pass the following variable as a keyword arg: x. From version 0.12, the only valid positional argument will be `data`, and passing other arguments without an explicit keyword will result in an error or misinterpretation.\n",
      "  warnings.warn(\n"
     ]
    },
    {
     "data": {
      "text/plain": [
       "Text(0.5, 1.0, 'Before Removal of Outliers ')"
      ]
     },
     "execution_count": 266,
     "metadata": {},
     "output_type": "execute_result"
    },
    {
     "data": {
      "image/png": "[encoded data removed]",
      "text/plain": [
       "<Figure size 432x288 with 1 Axes>"
      ]
     },
     "metadata": {
      "needs_background": "light"
     },
     "output_type": "display_data"
    }
   ],
   "source": [
    "sns.boxplot(df_cleaned['net_yearly_income'])\n",
    "plt.title(\"Before Removal of Outliers \")"
   ]
  },
  {
   "cell_type": "code",
   "execution_count": 269,
   "id": "0a42090b",
   "metadata": {},
   "outputs": [],
   "source": [
    "# Saving values less than 2500000, to avoid affect of outliers\n",
    "df_cleaned=df_cleaned[df_cleaned['net_yearly_income']<2.5e+06]"
   ]
  },
  {
   "cell_type": "code",
   "execution_count": 270,
   "id": "496f0946",
   "metadata": {},
   "outputs": [
    {
     "name": "stderr",
     "output_type": "stream",
     "text": [
      "C:\\Users\\acer\\anaconda3\\lib\\site-packages\\seaborn\\_decorators.py:36: FutureWarning: Pass the following variable as a keyword arg: x. From version 0.12, the only valid positional argument will be `data`, and passing other arguments without an explicit keyword will result in an error or misinterpretation.\n",
      "  warnings.warn(\n"
     ]
    },
    {
     "data": {
      "text/plain": [
       "Text(0.5, 1.0, 'After Removal of Outliers')"
      ]
     },
     "execution_count": 270,
     "metadata": {},
     "output_type": "execute_result"
    },
    {
     "data": {
      "image/png": "[encoded data removed]",
      "text/plain": [
       "<Figure size 432x288 with 1 Axes>"
      ]
     },
     "metadata": {
      "needs_background": "light"
     },
     "output_type": "display_data"
    }
   ],
   "source": [
    "sns.boxplot(df_cleaned['net_yearly_income'])\n",
    "plt.title(\"After Removal of Outliers\")"
   ]
  },
  {
   "cell_type": "code",
   "execution_count": 271,
   "id": "48af5f47",
   "metadata": {},
   "outputs": [
    {
     "name": "stderr",
     "output_type": "stream",
     "text": [
      "C:\\Users\\acer\\anaconda3\\lib\\site-packages\\seaborn\\_decorators.py:36: FutureWarning: Pass the following variable as a keyword arg: x. From version 0.12, the only valid positional argument will be `data`, and passing other arguments without an explicit keyword will result in an error or misinterpretation.\n",
      "  warnings.warn(\n"
     ]
    },
    {
     "data": {
      "text/plain": [
       "<AxesSubplot:xlabel='no_of_days_employed'>"
      ]
     },
     "execution_count": 271,
     "metadata": {},
     "output_type": "execute_result"
    },
    {
     "data": {
      "image/png": "[encoded data removed]",
      "text/plain": [
       "<Figure size 432x288 with 1 Axes>"
      ]
     },
     "metadata": {
      "needs_background": "light"
     },
     "output_type": "display_data"
    }
   ],
   "source": [
    "\n",
    "sns.boxplot(df_cleaned['no_of_days_employed'])\n"
   ]
  },
  {
   "cell_type": "code",
   "execution_count": 272,
   "id": "5def6115",
   "metadata": {},
   "outputs": [],
   "source": [
    "# Saving rows containing no of days employed less than 50000\n",
    "df_cleaned=df_cleaned[df_cleaned['no_of_days_employed']<50000]"
   ]
  },
  {
   "cell_type": "code",
   "execution_count": 273,
   "id": "9e9fc1ec",
   "metadata": {},
   "outputs": [
    {
     "name": "stderr",
     "output_type": "stream",
     "text": [
      "C:\\Users\\acer\\anaconda3\\lib\\site-packages\\seaborn\\_decorators.py:36: FutureWarning: Pass the following variable as a keyword arg: x. From version 0.12, the only valid positional argument will be `data`, and passing other arguments without an explicit keyword will result in an error or misinterpretation.\n",
      "  warnings.warn(\n"
     ]
    },
    {
     "data": {
      "text/plain": [
       "Text(0.5, 1.0, 'After Removal of Outliers')"
      ]
     },
     "execution_count": 273,
     "metadata": {},
     "output_type": "execute_result"
    },
    {
     "data": {
      "image/png": "[encoded data removed]",
      "text/plain": [
       "<Figure size 432x288 with 1 Axes>"
      ]
     },
     "metadata": {
      "needs_background": "light"
     },
     "output_type": "display_data"
    }
   ],
   "source": [
    "sns.boxplot(df_cleaned['no_of_days_employed'])\n",
    "plt.title(\"After Removal of Outliers\")\n"
   ]
  },
  {
   "cell_type": "markdown",
   "id": "bfc045ba",
   "metadata": {},
   "source": [
    "## Exploratory Data Analysis"
   ]
  },
  {
   "cell_type": "code",
   "execution_count": 151,
   "id": "92f70f66",
   "metadata": {},
   "outputs": [
    {
     "data": {
      "text/plain": [
       "<AxesSubplot:xlabel='credit_card_default', ylabel='age'>"
      ]
     },
     "execution_count": 151,
     "metadata": {},
     "output_type": "execute_result"
    },
    {
     "data": {
      "image/png": "[encoded data removed]",
      "text/plain": [
       "<Figure size 432x288 with 1 Axes>"
      ]
     },
     "metadata": {
      "needs_background": "light"
     },
     "output_type": "display_data"
    }
   ],
   "source": [
    "# Credit card default with Age\n",
    "sns.boxplot(x=df_cleaned['credit_card_default'],y=df_cleaned['age'])"
   ]
  },
  {
   "cell_type": "markdown",
   "id": "05eb6729",
   "metadata": {},
   "source": [
    "### - There is no relation between age with credit card default"
   ]
  },
  {
   "cell_type": "code",
   "execution_count": 152,
   "id": "9ab9a9d2",
   "metadata": {},
   "outputs": [
    {
     "data": {
      "text/plain": [
       "<AxesSubplot:xlabel='credit_card_default', ylabel='credit_score'>"
      ]
     },
     "execution_count": 152,
     "metadata": {},
     "output_type": "execute_result"
    },
    {
     "data": {
      "image/png": "[encoded data removed]",
      "text/plain": [
       "<Figure size 432x288 with 1 Axes>"
      ]
     },
     "metadata": {
      "needs_background": "light"
     },
     "output_type": "display_data"
    }
   ],
   "source": [
    "# Credit card default with credit score\n",
    "sns.boxplot(x=df_cleaned['credit_card_default'],y=df_cleaned['credit_score'])"
   ]
  },
  {
   "cell_type": "markdown",
   "id": "af9b0b0d",
   "metadata": {},
   "source": [
    "### - Those who have less credit score around 550 to 650 are at high risk to default"
   ]
  },
  {
   "cell_type": "code",
   "execution_count": 153,
   "id": "4a329d12",
   "metadata": {},
   "outputs": [
    {
     "data": {
      "text/plain": [
       "<AxesSubplot:xlabel='credit_card_default', ylabel='credit_limit_used(%)'>"
      ]
     },
     "execution_count": 153,
     "metadata": {},
     "output_type": "execute_result"
    },
    {
     "data": {
      "image/png": "[encoded data removed]",
      "text/plain": [
       "<Figure size 432x288 with 1 Axes>"
      ]
     },
     "metadata": {
      "needs_background": "light"
     },
     "output_type": "display_data"
    }
   ],
   "source": [
    "# Credit limit used\n",
    "sns.boxplot(x=df_cleaned['credit_card_default'],y=df_cleaned['credit_limit_used(%)'])"
   ]
  },
  {
   "cell_type": "markdown",
   "id": "df9e3c93",
   "metadata": {},
   "source": [
    "### - Defaulters have used 68 to 85 percent of their credit limit"
   ]
  },
  {
   "cell_type": "code",
   "execution_count": 291,
   "id": "110a9e29",
   "metadata": {},
   "outputs": [
    {
     "data": {
      "text/plain": [
       "<AxesSubplot:xlabel='credit_card_default', ylabel='net_yearly_income'>"
      ]
     },
     "execution_count": 291,
     "metadata": {},
     "output_type": "execute_result"
    },
    {
     "data": {
      "image/png": "[encoded data removed]",
      "text/plain": [
       "<Figure size 432x288 with 1 Axes>"
      ]
     },
     "metadata": {
      "needs_background": "light"
     },
     "output_type": "display_data"
    }
   ],
   "source": [
    "# Annual yearly income\n",
    "sns.boxplot(x=df_cleaned['credit_card_default'],y=df_cleaned['net_yearly_income'])"
   ]
  },
  {
   "cell_type": "markdown",
   "id": "88d7ad0c",
   "metadata": {},
   "source": [
    "### - People having high income are not defaulters"
   ]
  },
  {
   "cell_type": "code",
   "execution_count": 292,
   "id": "f676dcea",
   "metadata": {},
   "outputs": [
    {
     "data": {
      "text/plain": [
       "<AxesSubplot:xlabel='credit_card_default', ylabel='no_of_days_employed'>"
      ]
     },
     "execution_count": 292,
     "metadata": {},
     "output_type": "execute_result"
    },
    {
     "data": {
      "image/png": "[encoded data removed]",
      "text/plain": [
       "<Figure size 432x288 with 1 Axes>"
      ]
     },
     "metadata": {
      "needs_background": "light"
     },
     "output_type": "display_data"
    }
   ],
   "source": [
    "sns.boxplot(x=df_cleaned['credit_card_default'],y=df_cleaned['no_of_days_employed'])"
   ]
  },
  {
   "cell_type": "markdown",
   "id": "78d8792a",
   "metadata": {},
   "source": [
    "### - Defaulters have unstable job\n"
   ]
  },
  {
   "cell_type": "code",
   "execution_count": 159,
   "id": "34928f31",
   "metadata": {},
   "outputs": [
    {
     "data": {
      "text/plain": [
       "<AxesSubplot:xlabel='prev_defaults', ylabel='count'>"
      ]
     },
     "execution_count": 159,
     "metadata": {},
     "output_type": "execute_result"
    },
    {
     "data": {
      "image/png": "[encoded data removed]",
      "text/plain": [
       "<Figure size 432x288 with 1 Axes>"
      ]
     },
     "metadata": {
      "needs_background": "light"
     },
     "output_type": "display_data"
    }
   ],
   "source": [
    "# Previous defaults\n",
    "sns.countplot(x='prev_defaults',data=df_cleaned,hue='credit_card_default')"
   ]
  },
  {
   "cell_type": "markdown",
   "id": "8583c71c",
   "metadata": {},
   "source": [
    "### - Defaulters have also defaulted previously 1 and 2 times"
   ]
  },
  {
   "cell_type": "code",
   "execution_count": 160,
   "id": "548dab00",
   "metadata": {},
   "outputs": [
    {
     "data": {
      "text/plain": [
       "<AxesSubplot:xlabel='credit_card_default', ylabel='count'>"
      ]
     },
     "execution_count": 160,
     "metadata": {},
     "output_type": "execute_result"
    },
    {
     "data": {
      "image/png": "[encoded data removed]",
      "text/plain": [
       "<Figure size 432x288 with 1 Axes>"
      ]
     },
     "metadata": {
      "needs_background": "light"
     },
     "output_type": "display_data"
    }
   ],
   "source": [
    "# Migrant Worker\n",
    "sns.countplot(x='credit_card_default',data=df_cleaned,hue='migrant_worker')"
   ]
  },
  {
   "cell_type": "code",
   "execution_count": 161,
   "id": "debdd0dd",
   "metadata": {},
   "outputs": [
    {
     "data": {
      "text/html": [
       "<div>\n",
       "<style scoped>\n",
       "    .dataframe tbody tr th:only-of-type {\n",
       "        vertical-align: middle;\n",
       "    }\n",
       "\n",
       "    .dataframe tbody tr th {\n",
       "        vertical-align: top;\n",
       "    }\n",
       "\n",
       "    .dataframe thead th {\n",
       "        text-align: right;\n",
       "    }\n",
       "</style>\n",
       "<table border=\"1\" class=\"dataframe\">\n",
       "  <thead>\n",
       "    <tr style=\"text-align: right;\">\n",
       "      <th>migrant_worker</th>\n",
       "      <th>0</th>\n",
       "      <th>1</th>\n",
       "      <th>All</th>\n",
       "    </tr>\n",
       "    <tr>\n",
       "      <th>credit_card_default</th>\n",
       "      <th></th>\n",
       "      <th></th>\n",
       "      <th></th>\n",
       "    </tr>\n",
       "  </thead>\n",
       "  <tbody>\n",
       "    <tr>\n",
       "      <th>0</th>\n",
       "      <td>0.916999</td>\n",
       "      <td>0.898309</td>\n",
       "      <td>0.912903</td>\n",
       "    </tr>\n",
       "    <tr>\n",
       "      <th>1</th>\n",
       "      <td>0.083001</td>\n",
       "      <td>0.101691</td>\n",
       "      <td>0.087097</td>\n",
       "    </tr>\n",
       "  </tbody>\n",
       "</table>\n",
       "</div>"
      ],
      "text/plain": [
       "migrant_worker              0         1       All\n",
       "credit_card_default                              \n",
       "0                    0.916999  0.898309  0.912903\n",
       "1                    0.083001  0.101691  0.087097"
      ]
     },
     "execution_count": 161,
     "metadata": {},
     "output_type": "execute_result"
    }
   ],
   "source": [
    "# Table of migrant workers with respect to default\n",
    "pd.crosstab(index=df_cleaned['credit_card_default'],columns=df_cleaned['migrant_worker'],margins=True,normalize='columns')"
   ]
  },
  {
   "cell_type": "markdown",
   "id": "11793340",
   "metadata": {},
   "source": [
    "### The graph doesn't give any significant relationship"
   ]
  },
  {
   "cell_type": "code",
   "execution_count": 162,
   "id": "c0e3acc3",
   "metadata": {},
   "outputs": [
    {
     "data": {
      "text/plain": [
       "<AxesSubplot:xlabel='default_in_last_6months', ylabel='count'>"
      ]
     },
     "execution_count": 162,
     "metadata": {},
     "output_type": "execute_result"
    },
    {
     "data": {
      "image/png": "[encoded data removed]",
      "text/plain": [
       "<Figure size 432x288 with 1 Axes>"
      ]
     },
     "metadata": {
      "needs_background": "light"
     },
     "output_type": "display_data"
    }
   ],
   "source": [
    "# Default in last 6 months\n",
    "sns.countplot(x='default_in_last_6months',data=df_cleaned,hue='credit_card_default')"
   ]
  },
  {
   "cell_type": "markdown",
   "id": "1537b016",
   "metadata": {},
   "source": [
    "### Previous defaulters are at high risk"
   ]
  },
  {
   "cell_type": "code",
   "execution_count": 163,
   "id": "6710401c",
   "metadata": {},
   "outputs": [
    {
     "data": {
      "text/plain": [
       "<AxesSubplot:xlabel='credit_card_default', ylabel='total_family_members'>"
      ]
     },
     "execution_count": 163,
     "metadata": {},
     "output_type": "execute_result"
    },
    {
     "data": {
      "image/png": "[encoded data removed]",
      "text/plain": [
       "<Figure size 432x288 with 1 Axes>"
      ]
     },
     "metadata": {
      "needs_background": "light"
     },
     "output_type": "display_data"
    }
   ],
   "source": [
    "# Total family members\n",
    "sns.boxplot(x=df_cleaned['credit_card_default'],y=df_cleaned['total_family_members'])"
   ]
  },
  {
   "cell_type": "markdown",
   "id": "f9f8e383",
   "metadata": {},
   "source": [
    "### There is no significant relationship between total family members with credit card default"
   ]
  },
  {
   "cell_type": "code",
   "execution_count": 164,
   "id": "160cafe3",
   "metadata": {},
   "outputs": [
    {
     "data": {
      "text/plain": [
       "<AxesSubplot:xlabel='owns_car', ylabel='count'>"
      ]
     },
     "execution_count": 164,
     "metadata": {},
     "output_type": "execute_result"
    },
    {
     "data": {
      "image/png": "[encoded data removed]",
      "text/plain": [
       "<Figure size 432x288 with 1 Axes>"
      ]
     },
     "metadata": {
      "needs_background": "light"
     },
     "output_type": "display_data"
    }
   ],
   "source": [
    "# owns car\n",
    "sns.countplot(x='owns_car',data=df_cleaned,hue='credit_card_default')"
   ]
  },
  {
   "cell_type": "markdown",
   "id": "bdd24cd0",
   "metadata": {},
   "source": [
    "### There is not a significant association between owning car vs dredit card default"
   ]
  },
  {
   "cell_type": "code",
   "execution_count": 165,
   "id": "d1186e4d",
   "metadata": {},
   "outputs": [
    {
     "data": {
      "text/plain": [
       "<AxesSubplot:xlabel='owns_house', ylabel='count'>"
      ]
     },
     "execution_count": 165,
     "metadata": {},
     "output_type": "execute_result"
    },
    {
     "data": {
      "image/png": "[encoded data removed]",
      "text/plain": [
       "<Figure size 432x288 with 1 Axes>"
      ]
     },
     "metadata": {
      "needs_background": "light"
     },
     "output_type": "display_data"
    }
   ],
   "source": [
    "sns.countplot(x='owns_house',data=df_cleaned,hue='credit_card_default')"
   ]
  },
  {
   "cell_type": "markdown",
   "id": "2f532f5b",
   "metadata": {},
   "source": [
    "### There is no such association between owning house with default"
   ]
  },
  {
   "cell_type": "code",
   "execution_count": 166,
   "id": "b74fda3d",
   "metadata": {},
   "outputs": [
    {
     "data": {
      "text/plain": [
       "<AxesSubplot:xlabel='no_of_children', ylabel='count'>"
      ]
     },
     "execution_count": 166,
     "metadata": {},
     "output_type": "execute_result"
    },
    {
     "data": {
      "image/png": "[encoded data removed]",
      "text/plain": [
       "<Figure size 432x288 with 1 Axes>"
      ]
     },
     "metadata": {
      "needs_background": "light"
     },
     "output_type": "display_data"
    }
   ],
   "source": [
    "# Number of children\n",
    "sns.countplot(x='no_of_children',data=df_cleaned,hue='credit_card_default')"
   ]
  },
  {
   "cell_type": "markdown",
   "id": "3ef636fa",
   "metadata": {},
   "source": [
    "### Peole who are alone tend to do more default"
   ]
  },
  {
   "cell_type": "code",
   "execution_count": 167,
   "id": "8f29cf01",
   "metadata": {},
   "outputs": [
    {
     "data": {
      "text/plain": [
       "<AxesSubplot:xlabel='credit_card_default', ylabel='yearly_debt_payments'>"
      ]
     },
     "execution_count": 167,
     "metadata": {},
     "output_type": "execute_result"
    },
    {
     "data": {
      "image/png": "[encoded data removed]",
      "text/plain": [
       "<Figure size 432x288 with 1 Axes>"
      ]
     },
     "metadata": {
      "needs_background": "light"
     },
     "output_type": "display_data"
    }
   ],
   "source": [
    "sns.boxplot(x=df_cleaned['credit_card_default'],y=df_cleaned['yearly_debt_payments'])"
   ]
  },
  {
   "cell_type": "markdown",
   "id": "232af10d",
   "metadata": {},
   "source": [
    "### Surprisingly, defaulters have taken less debt"
   ]
  },
  {
   "cell_type": "code",
   "execution_count": 168,
   "id": "53166941",
   "metadata": {},
   "outputs": [
    {
     "data": {
      "text/plain": [
       "<BarContainer object of 19 artists>"
      ]
     },
     "execution_count": 168,
     "metadata": {},
     "output_type": "execute_result"
    },
    {
     "data": {
      "image/png": "[encoded data removed]",
      "text/plain": [
       "<Figure size 1080x720 with 1 Axes>"
      ]
     },
     "metadata": {
      "needs_background": "light"
     },
     "output_type": "display_data"
    }
   ],
   "source": [
    "# Occupation counts\n",
    "plt.figure(figsize=(15,10))\n",
    "plt.subplot(2,2,1)\n",
    "un,counts=np.unique(df_cleaned.occupation_type,return_counts=True)\n",
    "plt.barh(un,counts)"
   ]
  },
  {
   "cell_type": "code",
   "execution_count": 169,
   "id": "524401da",
   "metadata": {},
   "outputs": [
    {
     "data": {
      "text/html": [
       "<div>\n",
       "<style scoped>\n",
       "    .dataframe tbody tr th:only-of-type {\n",
       "        vertical-align: middle;\n",
       "    }\n",
       "\n",
       "    .dataframe tbody tr th {\n",
       "        vertical-align: top;\n",
       "    }\n",
       "\n",
       "    .dataframe thead th {\n",
       "        text-align: right;\n",
       "    }\n",
       "</style>\n",
       "<table border=\"1\" class=\"dataframe\">\n",
       "  <thead>\n",
       "    <tr style=\"text-align: right;\">\n",
       "      <th>occupation_type</th>\n",
       "      <th>Accountants</th>\n",
       "      <th>Cleaning staff</th>\n",
       "      <th>Cooking staff</th>\n",
       "      <th>Core staff</th>\n",
       "      <th>Drivers</th>\n",
       "      <th>HR staff</th>\n",
       "      <th>High skill tech staff</th>\n",
       "      <th>IT staff</th>\n",
       "      <th>Laborers</th>\n",
       "      <th>Low-skill Laborers</th>\n",
       "      <th>Managers</th>\n",
       "      <th>Medicine staff</th>\n",
       "      <th>Private service staff</th>\n",
       "      <th>Realty agents</th>\n",
       "      <th>Sales staff</th>\n",
       "      <th>Secretaries</th>\n",
       "      <th>Security staff</th>\n",
       "      <th>Unknown</th>\n",
       "      <th>Waiters/barmen staff</th>\n",
       "      <th>All</th>\n",
       "    </tr>\n",
       "    <tr>\n",
       "      <th>credit_card_default</th>\n",
       "      <th></th>\n",
       "      <th></th>\n",
       "      <th></th>\n",
       "      <th></th>\n",
       "      <th></th>\n",
       "      <th></th>\n",
       "      <th></th>\n",
       "      <th></th>\n",
       "      <th></th>\n",
       "      <th></th>\n",
       "      <th></th>\n",
       "      <th></th>\n",
       "      <th></th>\n",
       "      <th></th>\n",
       "      <th></th>\n",
       "      <th></th>\n",
       "      <th></th>\n",
       "      <th></th>\n",
       "      <th></th>\n",
       "      <th></th>\n",
       "    </tr>\n",
       "  </thead>\n",
       "  <tbody>\n",
       "    <tr>\n",
       "      <th>0</th>\n",
       "      <td>0.945351</td>\n",
       "      <td>0.895899</td>\n",
       "      <td>0.887209</td>\n",
       "      <td>0.940903</td>\n",
       "      <td>0.882732</td>\n",
       "      <td>0.909091</td>\n",
       "      <td>0.936717</td>\n",
       "      <td>0.968254</td>\n",
       "      <td>0.896</td>\n",
       "      <td>0.846154</td>\n",
       "      <td>0.932753</td>\n",
       "      <td>0.922575</td>\n",
       "      <td>0.930667</td>\n",
       "      <td>0.904255</td>\n",
       "      <td>0.902889</td>\n",
       "      <td>0.957895</td>\n",
       "      <td>0.895267</td>\n",
       "      <td>0.921616</td>\n",
       "      <td>0.890625</td>\n",
       "      <td>0.912903</td>\n",
       "    </tr>\n",
       "    <tr>\n",
       "      <th>1</th>\n",
       "      <td>0.054649</td>\n",
       "      <td>0.104101</td>\n",
       "      <td>0.112791</td>\n",
       "      <td>0.059097</td>\n",
       "      <td>0.117268</td>\n",
       "      <td>0.090909</td>\n",
       "      <td>0.063283</td>\n",
       "      <td>0.031746</td>\n",
       "      <td>0.104</td>\n",
       "      <td>0.153846</td>\n",
       "      <td>0.067247</td>\n",
       "      <td>0.077425</td>\n",
       "      <td>0.069333</td>\n",
       "      <td>0.095745</td>\n",
       "      <td>0.097111</td>\n",
       "      <td>0.042105</td>\n",
       "      <td>0.104733</td>\n",
       "      <td>0.078384</td>\n",
       "      <td>0.109375</td>\n",
       "      <td>0.087097</td>\n",
       "    </tr>\n",
       "  </tbody>\n",
       "</table>\n",
       "</div>"
      ],
      "text/plain": [
       "occupation_type      Accountants  Cleaning staff  Cooking staff  Core staff  \\\n",
       "credit_card_default                                                           \n",
       "0                       0.945351        0.895899       0.887209    0.940903   \n",
       "1                       0.054649        0.104101       0.112791    0.059097   \n",
       "\n",
       "occupation_type       Drivers  HR staff  High skill tech staff  IT staff  \\\n",
       "credit_card_default                                                        \n",
       "0                    0.882732  0.909091               0.936717  0.968254   \n",
       "1                    0.117268  0.090909               0.063283  0.031746   \n",
       "\n",
       "occupation_type      Laborers  Low-skill Laborers  Managers  Medicine staff  \\\n",
       "credit_card_default                                                           \n",
       "0                       0.896            0.846154  0.932753        0.922575   \n",
       "1                       0.104            0.153846  0.067247        0.077425   \n",
       "\n",
       "occupation_type      Private service staff  Realty agents  Sales staff  \\\n",
       "credit_card_default                                                      \n",
       "0                                 0.930667       0.904255     0.902889   \n",
       "1                                 0.069333       0.095745     0.097111   \n",
       "\n",
       "occupation_type      Secretaries  Security staff   Unknown  \\\n",
       "credit_card_default                                          \n",
       "0                       0.957895        0.895267  0.921616   \n",
       "1                       0.042105        0.104733  0.078384   \n",
       "\n",
       "occupation_type      Waiters/barmen staff       All  \n",
       "credit_card_default                                  \n",
       "0                                0.890625  0.912903  \n",
       "1                                0.109375  0.087097  "
      ]
     },
     "execution_count": 169,
     "metadata": {},
     "output_type": "execute_result"
    }
   ],
   "source": [
    "pd.crosstab(index=df_cleaned['credit_card_default'],columns=df_cleaned['occupation_type'],margins=True,normalize='columns')"
   ]
  },
  {
   "cell_type": "markdown",
   "id": "99c9482e",
   "metadata": {},
   "source": [
    "#### Low-skill Laborers, Waiters/barmen staff,security staff, cooking staff,drivers, Laborers are at high risk while IT staff, secretaries, Accountants are at low risk"
   ]
  },
  {
   "cell_type": "markdown",
   "id": "245245c4",
   "metadata": {},
   "source": [
    "## In conclusion \n",
    "- There are seven factors upon which credit card default depends\n",
    "   1. Credit limit used\n",
    "   2. credit_limit_used(%)\t\n",
    "   3. credit_score\t\n",
    "   4. prev_defaults\t\n",
    "   5. default_in_last_6months\n",
    "   6. People who earn less \n",
    "   7. Selected professions"
   ]
  },
  {
   "cell_type": "markdown",
   "id": "5cba32a0",
   "metadata": {},
   "source": [
    "## Model Development"
   ]
  },
  {
   "cell_type": "code",
   "execution_count": 274,
   "id": "a8242b2b",
   "metadata": {},
   "outputs": [],
   "source": [
    "# Dropping customer_id , name columns\n",
    "df_model=df_cleaned.drop(columns=['customer_id','name'])"
   ]
  },
  {
   "cell_type": "code",
   "execution_count": 275,
   "id": "30c6eeeb",
   "metadata": {},
   "outputs": [
    {
     "data": {
      "text/html": [
       "<div>\n",
       "<style scoped>\n",
       "    .dataframe tbody tr th:only-of-type {\n",
       "        vertical-align: middle;\n",
       "    }\n",
       "\n",
       "    .dataframe tbody tr th {\n",
       "        vertical-align: top;\n",
       "    }\n",
       "\n",
       "    .dataframe thead th {\n",
       "        text-align: right;\n",
       "    }\n",
       "</style>\n",
       "<table border=\"1\" class=\"dataframe\">\n",
       "  <thead>\n",
       "    <tr style=\"text-align: right;\">\n",
       "      <th></th>\n",
       "      <th>age</th>\n",
       "      <th>gender</th>\n",
       "      <th>owns_car</th>\n",
       "      <th>owns_house</th>\n",
       "      <th>no_of_children</th>\n",
       "      <th>net_yearly_income</th>\n",
       "      <th>no_of_days_employed</th>\n",
       "      <th>occupation_type</th>\n",
       "      <th>total_family_members</th>\n",
       "      <th>migrant_worker</th>\n",
       "      <th>yearly_debt_payments</th>\n",
       "      <th>credit_limit</th>\n",
       "      <th>credit_limit_used(%)</th>\n",
       "      <th>credit_score</th>\n",
       "      <th>prev_defaults</th>\n",
       "      <th>default_in_last_6months</th>\n",
       "      <th>credit_card_default</th>\n",
       "    </tr>\n",
       "  </thead>\n",
       "  <tbody>\n",
       "    <tr>\n",
       "      <th>0</th>\n",
       "      <td>46</td>\n",
       "      <td>F</td>\n",
       "      <td>N</td>\n",
       "      <td>Y</td>\n",
       "      <td>0</td>\n",
       "      <td>107934.04</td>\n",
       "      <td>612</td>\n",
       "      <td>Unknown</td>\n",
       "      <td>1</td>\n",
       "      <td>1</td>\n",
       "      <td>33070.28</td>\n",
       "      <td>18690.93</td>\n",
       "      <td>73</td>\n",
       "      <td>544.0</td>\n",
       "      <td>2</td>\n",
       "      <td>1</td>\n",
       "      <td>1</td>\n",
       "    </tr>\n",
       "    <tr>\n",
       "      <th>1</th>\n",
       "      <td>29</td>\n",
       "      <td>M</td>\n",
       "      <td>N</td>\n",
       "      <td>Y</td>\n",
       "      <td>0</td>\n",
       "      <td>109862.62</td>\n",
       "      <td>2771</td>\n",
       "      <td>Laborers</td>\n",
       "      <td>2</td>\n",
       "      <td>0</td>\n",
       "      <td>15329.53</td>\n",
       "      <td>37745.19</td>\n",
       "      <td>52</td>\n",
       "      <td>857.0</td>\n",
       "      <td>0</td>\n",
       "      <td>0</td>\n",
       "      <td>0</td>\n",
       "    </tr>\n",
       "    <tr>\n",
       "      <th>2</th>\n",
       "      <td>37</td>\n",
       "      <td>M</td>\n",
       "      <td>N</td>\n",
       "      <td>Y</td>\n",
       "      <td>0</td>\n",
       "      <td>230153.17</td>\n",
       "      <td>204</td>\n",
       "      <td>Laborers</td>\n",
       "      <td>2</td>\n",
       "      <td>0</td>\n",
       "      <td>48416.60</td>\n",
       "      <td>41598.36</td>\n",
       "      <td>43</td>\n",
       "      <td>650.0</td>\n",
       "      <td>0</td>\n",
       "      <td>0</td>\n",
       "      <td>0</td>\n",
       "    </tr>\n",
       "    <tr>\n",
       "      <th>3</th>\n",
       "      <td>39</td>\n",
       "      <td>F</td>\n",
       "      <td>N</td>\n",
       "      <td>Y</td>\n",
       "      <td>0</td>\n",
       "      <td>122325.82</td>\n",
       "      <td>11941</td>\n",
       "      <td>Core staff</td>\n",
       "      <td>2</td>\n",
       "      <td>0</td>\n",
       "      <td>22574.36</td>\n",
       "      <td>32627.76</td>\n",
       "      <td>20</td>\n",
       "      <td>754.0</td>\n",
       "      <td>0</td>\n",
       "      <td>0</td>\n",
       "      <td>0</td>\n",
       "    </tr>\n",
       "    <tr>\n",
       "      <th>4</th>\n",
       "      <td>46</td>\n",
       "      <td>M</td>\n",
       "      <td>Y</td>\n",
       "      <td>Y</td>\n",
       "      <td>0</td>\n",
       "      <td>387286.00</td>\n",
       "      <td>1459</td>\n",
       "      <td>Core staff</td>\n",
       "      <td>1</td>\n",
       "      <td>0</td>\n",
       "      <td>38282.95</td>\n",
       "      <td>52950.64</td>\n",
       "      <td>75</td>\n",
       "      <td>927.0</td>\n",
       "      <td>0</td>\n",
       "      <td>0</td>\n",
       "      <td>0</td>\n",
       "    </tr>\n",
       "  </tbody>\n",
       "</table>\n",
       "</div>"
      ],
      "text/plain": [
       "   age gender owns_car owns_house  no_of_children  net_yearly_income  \\\n",
       "0   46      F        N          Y               0          107934.04   \n",
       "1   29      M        N          Y               0          109862.62   \n",
       "2   37      M        N          Y               0          230153.17   \n",
       "3   39      F        N          Y               0          122325.82   \n",
       "4   46      M        Y          Y               0          387286.00   \n",
       "\n",
       "   no_of_days_employed occupation_type  total_family_members  migrant_worker  \\\n",
       "0                  612         Unknown                     1               1   \n",
       "1                 2771        Laborers                     2               0   \n",
       "2                  204        Laborers                     2               0   \n",
       "3                11941      Core staff                     2               0   \n",
       "4                 1459      Core staff                     1               0   \n",
       "\n",
       "   yearly_debt_payments  credit_limit  credit_limit_used(%)  credit_score  \\\n",
       "0              33070.28      18690.93                    73         544.0   \n",
       "1              15329.53      37745.19                    52         857.0   \n",
       "2              48416.60      41598.36                    43         650.0   \n",
       "3              22574.36      32627.76                    20         754.0   \n",
       "4              38282.95      52950.64                    75         927.0   \n",
       "\n",
       "   prev_defaults  default_in_last_6months  credit_card_default  \n",
       "0              2                        1                    1  \n",
       "1              0                        0                    0  \n",
       "2              0                        0                    0  \n",
       "3              0                        0                    0  \n",
       "4              0                        0                    0  "
      ]
     },
     "execution_count": 275,
     "metadata": {},
     "output_type": "execute_result"
    }
   ],
   "source": [
    "df_model.head()"
   ]
  },
  {
   "cell_type": "code",
   "execution_count": 276,
   "id": "65898da0",
   "metadata": {},
   "outputs": [],
   "source": [
    "# assigning labels to categorical column\n",
    "from sklearn import preprocessing\n",
    "enc=preprocessing.LabelEncoder()\n",
    "df_model.gender=enc.fit_transform(df_model.gender)\n",
    "df_model.owns_car=enc.fit_transform(df_model.owns_car)\n",
    "df_model.owns_house=enc.fit_transform(df_model.owns_house)\n",
    "df_model.occupation_type=enc.fit_transform(df_model.occupation_type)\n",
    "df_model.migrant_worker=enc.fit_transform(df_model.migrant_worker)\n",
    "df_model.credit_card_default=enc.fit_transform(df_model.credit_card_default)\n",
    "\n"
   ]
  },
  {
   "cell_type": "code",
   "execution_count": 277,
   "id": "0ce132cf",
   "metadata": {},
   "outputs": [
    {
     "data": {
      "text/html": [
       "<div>\n",
       "<style scoped>\n",
       "    .dataframe tbody tr th:only-of-type {\n",
       "        vertical-align: middle;\n",
       "    }\n",
       "\n",
       "    .dataframe tbody tr th {\n",
       "        vertical-align: top;\n",
       "    }\n",
       "\n",
       "    .dataframe thead th {\n",
       "        text-align: right;\n",
       "    }\n",
       "</style>\n",
       "<table border=\"1\" class=\"dataframe\">\n",
       "  <thead>\n",
       "    <tr style=\"text-align: right;\">\n",
       "      <th></th>\n",
       "      <th>age</th>\n",
       "      <th>gender</th>\n",
       "      <th>owns_car</th>\n",
       "      <th>owns_house</th>\n",
       "      <th>no_of_children</th>\n",
       "      <th>net_yearly_income</th>\n",
       "      <th>no_of_days_employed</th>\n",
       "      <th>occupation_type</th>\n",
       "      <th>total_family_members</th>\n",
       "      <th>migrant_worker</th>\n",
       "      <th>yearly_debt_payments</th>\n",
       "      <th>credit_limit</th>\n",
       "      <th>credit_limit_used(%)</th>\n",
       "      <th>credit_score</th>\n",
       "      <th>prev_defaults</th>\n",
       "      <th>default_in_last_6months</th>\n",
       "      <th>credit_card_default</th>\n",
       "    </tr>\n",
       "  </thead>\n",
       "  <tbody>\n",
       "    <tr>\n",
       "      <th>0</th>\n",
       "      <td>46</td>\n",
       "      <td>0</td>\n",
       "      <td>0</td>\n",
       "      <td>1</td>\n",
       "      <td>0</td>\n",
       "      <td>107934.04</td>\n",
       "      <td>612</td>\n",
       "      <td>17</td>\n",
       "      <td>1</td>\n",
       "      <td>1</td>\n",
       "      <td>33070.28</td>\n",
       "      <td>18690.93</td>\n",
       "      <td>73</td>\n",
       "      <td>544.0</td>\n",
       "      <td>2</td>\n",
       "      <td>1</td>\n",
       "      <td>1</td>\n",
       "    </tr>\n",
       "    <tr>\n",
       "      <th>1</th>\n",
       "      <td>29</td>\n",
       "      <td>1</td>\n",
       "      <td>0</td>\n",
       "      <td>1</td>\n",
       "      <td>0</td>\n",
       "      <td>109862.62</td>\n",
       "      <td>2771</td>\n",
       "      <td>8</td>\n",
       "      <td>2</td>\n",
       "      <td>0</td>\n",
       "      <td>15329.53</td>\n",
       "      <td>37745.19</td>\n",
       "      <td>52</td>\n",
       "      <td>857.0</td>\n",
       "      <td>0</td>\n",
       "      <td>0</td>\n",
       "      <td>0</td>\n",
       "    </tr>\n",
       "    <tr>\n",
       "      <th>2</th>\n",
       "      <td>37</td>\n",
       "      <td>1</td>\n",
       "      <td>0</td>\n",
       "      <td>1</td>\n",
       "      <td>0</td>\n",
       "      <td>230153.17</td>\n",
       "      <td>204</td>\n",
       "      <td>8</td>\n",
       "      <td>2</td>\n",
       "      <td>0</td>\n",
       "      <td>48416.60</td>\n",
       "      <td>41598.36</td>\n",
       "      <td>43</td>\n",
       "      <td>650.0</td>\n",
       "      <td>0</td>\n",
       "      <td>0</td>\n",
       "      <td>0</td>\n",
       "    </tr>\n",
       "    <tr>\n",
       "      <th>3</th>\n",
       "      <td>39</td>\n",
       "      <td>0</td>\n",
       "      <td>0</td>\n",
       "      <td>1</td>\n",
       "      <td>0</td>\n",
       "      <td>122325.82</td>\n",
       "      <td>11941</td>\n",
       "      <td>3</td>\n",
       "      <td>2</td>\n",
       "      <td>0</td>\n",
       "      <td>22574.36</td>\n",
       "      <td>32627.76</td>\n",
       "      <td>20</td>\n",
       "      <td>754.0</td>\n",
       "      <td>0</td>\n",
       "      <td>0</td>\n",
       "      <td>0</td>\n",
       "    </tr>\n",
       "    <tr>\n",
       "      <th>4</th>\n",
       "      <td>46</td>\n",
       "      <td>1</td>\n",
       "      <td>1</td>\n",
       "      <td>1</td>\n",
       "      <td>0</td>\n",
       "      <td>387286.00</td>\n",
       "      <td>1459</td>\n",
       "      <td>3</td>\n",
       "      <td>1</td>\n",
       "      <td>0</td>\n",
       "      <td>38282.95</td>\n",
       "      <td>52950.64</td>\n",
       "      <td>75</td>\n",
       "      <td>927.0</td>\n",
       "      <td>0</td>\n",
       "      <td>0</td>\n",
       "      <td>0</td>\n",
       "    </tr>\n",
       "  </tbody>\n",
       "</table>\n",
       "</div>"
      ],
      "text/plain": [
       "   age  gender  owns_car  owns_house  no_of_children  net_yearly_income  \\\n",
       "0   46       0         0           1               0          107934.04   \n",
       "1   29       1         0           1               0          109862.62   \n",
       "2   37       1         0           1               0          230153.17   \n",
       "3   39       0         0           1               0          122325.82   \n",
       "4   46       1         1           1               0          387286.00   \n",
       "\n",
       "   no_of_days_employed  occupation_type  total_family_members  migrant_worker  \\\n",
       "0                  612               17                     1               1   \n",
       "1                 2771                8                     2               0   \n",
       "2                  204                8                     2               0   \n",
       "3                11941                3                     2               0   \n",
       "4                 1459                3                     1               0   \n",
       "\n",
       "   yearly_debt_payments  credit_limit  credit_limit_used(%)  credit_score  \\\n",
       "0              33070.28      18690.93                    73         544.0   \n",
       "1              15329.53      37745.19                    52         857.0   \n",
       "2              48416.60      41598.36                    43         650.0   \n",
       "3              22574.36      32627.76                    20         754.0   \n",
       "4              38282.95      52950.64                    75         927.0   \n",
       "\n",
       "   prev_defaults  default_in_last_6months  credit_card_default  \n",
       "0              2                        1                    1  \n",
       "1              0                        0                    0  \n",
       "2              0                        0                    0  \n",
       "3              0                        0                    0  \n",
       "4              0                        0                    0  "
      ]
     },
     "execution_count": 277,
     "metadata": {},
     "output_type": "execute_result"
    }
   ],
   "source": [
    "df_model.head()"
   ]
  },
  {
   "cell_type": "code",
   "execution_count": 115,
   "id": "6051d584",
   "metadata": {},
   "outputs": [],
   "source": [
    "# Importing SMOTE library because it is an unbalanced dataset\n",
    "from imblearn.over_sampling import SMOTE"
   ]
  },
  {
   "cell_type": "code",
   "execution_count": 278,
   "id": "259c3ef0",
   "metadata": {},
   "outputs": [],
   "source": [
    "# Assigning features and labels - features are input and labels are output\n",
    "features, labels = SMOTE().fit_resample(df_model.drop([\"credit_card_default\"],axis=1), df_model.credit_card_default)"
   ]
  },
  {
   "cell_type": "code",
   "execution_count": 117,
   "id": "dccb66a9",
   "metadata": {},
   "outputs": [],
   "source": [
    "from sklearn.model_selection import train_test_split"
   ]
  },
  {
   "cell_type": "code",
   "execution_count": 279,
   "id": "e84442c9",
   "metadata": {},
   "outputs": [],
   "source": [
    "x_train,x_test,y_train,y_test=train_test_split(features,labels,test_size=0.2)"
   ]
  },
  {
   "cell_type": "code",
   "execution_count": 280,
   "id": "81b15e23",
   "metadata": {},
   "outputs": [
    {
     "data": {
      "text/plain": [
       "RandomForestClassifier(n_estimators=1000, random_state=42)"
      ]
     },
     "execution_count": 280,
     "metadata": {},
     "output_type": "execute_result"
    }
   ],
   "source": [
    "from sklearn.tree import DecisionTreeClassifier\n",
    "from sklearn.ensemble import RandomForestClassifier\n",
    "rf = RandomForestClassifier(random_state=42,n_estimators=1000)\n",
    "rf.fit(x_train, y_train)"
   ]
  },
  {
   "cell_type": "code",
   "execution_count": 281,
   "id": "d8fb841f",
   "metadata": {},
   "outputs": [
    {
     "data": {
      "text/plain": [
       "0.9849600982197667"
      ]
     },
     "execution_count": 281,
     "metadata": {},
     "output_type": "execute_result"
    }
   ],
   "source": [
    "from sklearn.metrics import accuracy_score, confusion_matrix, ConfusionMatrixDisplay\n",
    "accuracy_score(rf.predict(x_test),y_test)"
   ]
  },
  {
   "cell_type": "code",
   "execution_count": 282,
   "id": "d6431922",
   "metadata": {},
   "outputs": [
    {
     "data": {
      "text/plain": [
       "<sklearn.metrics._plot.confusion_matrix.ConfusionMatrixDisplay at 0x2668ccd5f10>"
      ]
     },
     "execution_count": 282,
     "metadata": {},
     "output_type": "execute_result"
    },
    {
     "data": {
      "image/png": "[encoded data removed]",
      "text/plain": [
       "<Figure size 432x288 with 2 Axes>"
      ]
     },
     "metadata": {
      "needs_background": "light"
     },
     "output_type": "display_data"
    }
   ],
   "source": [
    "cm = confusion_matrix(y_test,rf.predict(x_test))\n",
    "disp = ConfusionMatrixDisplay(cm, display_labels=[\"1\",\"0\"])\n",
    "disp.plot()"
   ]
  },
  {
   "cell_type": "code",
   "execution_count": 287,
   "id": "f63be108",
   "metadata": {},
   "outputs": [],
   "source": [
    "from sklearn.metrics import  precision_score, recall_score\n"
   ]
  },
  {
   "cell_type": "code",
   "execution_count": 289,
   "id": "fce1513c",
   "metadata": {},
   "outputs": [
    {
     "name": "stdout",
     "output_type": "stream",
     "text": [
      "Precision       : 99.24%\n",
      "Recall          : 97.75%\n"
     ]
    }
   ],
   "source": [
    "print(\"Precision       : {:.2f}%\".format(precision_score(rf.predict(x_test),y_test)*100))\n",
    "print(\"Recall          : {:.2f}%\".format(recall_score(rf.predict(x_test),y_test)*100))"
   ]
  }
 ],
 "metadata": {
  "kernelspec": {
   "display_name": "Python 3 (ipykernel)",
   "language": "python",
   "name": "python3"
  },
  "language_info": {
   "codemirror_mode": {
    "name": "ipython",
    "version": 3
   },
   "file_extension": ".py",
   "mimetype": "text/x-python",
   "name": "python",
   "nbconvert_exporter": "python",
   "pygments_lexer": "ipython3",
   "version": "3.9.12"
  }
 },
 "nbformat": 4,
 "nbformat_minor": 5
}
